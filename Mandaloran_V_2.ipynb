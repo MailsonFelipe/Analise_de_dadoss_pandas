{
  "nbformat": 4,
  "nbformat_minor": 0,
  "metadata": {
    "colab": {
      "name": "Mandaloran_V_2.ipynb",
      "provenance": [],
      "collapsed_sections": [],
      "authorship_tag": "ABX9TyMT2IbuHlWk/E31L5huHtHg",
      "include_colab_link": true
    },
    "kernelspec": {
      "name": "python3",
      "display_name": "Python 3"
    },
    "language_info": {
      "name": "python"
    }
  },
  "cells": [
    {
      "cell_type": "markdown",
      "metadata": {
        "id": "view-in-github",
        "colab_type": "text"
      },
      "source": [
        "<a href=\"https://colab.research.google.com/github/MailsonFelipe/Analise_de_dadoss_pandas/blob/master/Mandaloran_V_2.ipynb\" target=\"_parent\"><img src=\"https://colab.research.google.com/assets/colab-badge.svg\" alt=\"Open In Colab\"/></a>"
      ]
    },
    {
      "cell_type": "markdown",
      "metadata": {
        "id": "61AQGtN8l4oh"
      },
      "source": [
        "##**PoC utilizando KNN no Projeto Mandalorian**\n",
        "Versão 2"
      ]
    },
    {
      "cell_type": "code",
      "metadata": {
        "id": "8E_bi9kvoVIM"
      },
      "source": [
        "import sys"
      ],
      "execution_count": 104,
      "outputs": []
    },
    {
      "cell_type": "markdown",
      "metadata": {
        "id": "av4reSVo53W6"
      },
      "source": [
        "**Features**\n",
        "\n",
        "Assumindo que os projetos possam ser caracterizados em \"área\" e \"subárea\":"
      ]
    },
    {
      "cell_type": "code",
      "metadata": {
        "id": "rPBwkdSuoSq1"
      },
      "source": [
        "# Feature 1\n",
        "area = ['hardware','p&d','software','software','educação','robótica','hardware','educação','educação','hardware','hardware','hardware','educação',\n",
        "        'software','hardware','hardware','software','hardware','software','educação','software','p&d','software','p&d','software','educação','robótica',\n",
        "        'p&d','software','p&d']\n",
        "\n",
        "# Feature 2\n",
        "subarea = ['eletronica','inteligência artificial','desenvolvimento mobile','desenvolvimento de software','lógica de programação','automação industrial',\n",
        "           'arduino','curso python','curso python','arduino','firmware','raspberry','curso python','desenvolvimento de software','eletronica','arduino',\n",
        "           'desenvolvimento mobile','raspberry','desenvolvimento de software','lógica de programação','desenvolvimento web','inteligência artificial',\n",
        "           'desenvolvimento mobile','mineração de dados','desenvolvimento mobile','curso python','automação industrial','mineração de dados',\n",
        "           'desenvolvimento mobile','inteligência artificial']"
      ],
      "execution_count": 105,
      "outputs": []
    },
    {
      "cell_type": "markdown",
      "metadata": {
        "id": "6plrQK-Y73Z1"
      },
      "source": [
        "**Funcionários e skills**\n",
        "\n",
        "Sejam os funcionários:\n",
        "\n",
        "funcA(team leader) = ['android', 'flutter', 'typescript', 'javascript', 'django', 'flask', 'node', 'python'],\n",
        "\n",
        "funcB(dev) = ['javascript', 'html', 'css'],\n",
        "\n",
        "funcC(dev) = ['node', 'django', 'laravel', 'python'],\n",
        "\n",
        "funcD(eng) = ['eletrônica', 'mecânica', 'circuitos', 'python'],\n",
        "\n",
        "funcE(designer) = ['mockup', 'produto', 'invision'],\n",
        "\n",
        "funcF(dev) = [javascript', 'html', 'css', 'django', 'flask', 'node', 'python'],\n",
        "\n",
        "funcG(pesquisador) = ['pesquisa']"
      ]
    },
    {
      "cell_type": "markdown",
      "metadata": {
        "id": "UUwSXn6ELUQ2"
      },
      "source": [
        "**Projetos históricos e alocações**\n",
        "\n",
        "Cada tupla diz respeito a alocação dos sete primeiros projetos. **E.g. Projeto0(hardware, eletrônica, (funcD, funcC, funcE))**"
      ]
    },
    {
      "cell_type": "code",
      "metadata": {
        "id": "SQAwK34aLhCn"
      },
      "source": [
        "alocacaoProjetos = [['funcD', 'funcE', 'funcA'], ['funcG', 'funcA'], ['funcA', 'funcF', 'funcE'], ['funcA', 'funcB', 'funcE', 'funcF'],\n",
        "                    ['funcF', 'funcC'], ['funcD', 'funcE'], ['funcD', 'funcC', 'funcE']]"
      ],
      "execution_count": 106,
      "outputs": []
    },
    {
      "cell_type": "markdown",
      "metadata": {
        "id": "ykukxDvL46cw"
      },
      "source": [
        "**Tratamento dos dados**\n",
        "\n",
        "A maioria dos algoritmos de aprendizado de máquina exigem dados de entrada numérica. Para tanto, é necessário mapear cada entrada em um número."
      ]
    },
    {
      "cell_type": "code",
      "metadata": {
        "colab": {
          "base_uri": "https://localhost:8080/"
        },
        "id": "lYFiJbsz5Xxk",
        "outputId": "935c2d03-ac2d-4744-c87d-da1a35be73b4"
      },
      "source": [
        "# Importando LabelEncoder\n",
        "from sklearn import preprocessing\n",
        "\n",
        "# Criando labelEncoder\n",
        "le = preprocessing.LabelEncoder()\n",
        "\n",
        "area_num = le.fit_transform(area [:7])\n",
        "print(area_num)\n",
        "\n",
        "subarea_num = le.fit_transform(subarea [:7])\n",
        "print(subarea_num)\n",
        "\n",
        "# Identificadores dos projetos\n",
        "ids = []\n",
        "for id in range (0, 7):\n",
        "  ids.append(id)\n",
        "ids = ids[:20]\n",
        "\n",
        "# Combinando cada feature em uma tripla. Cada tripla representa um projeto.\n",
        "#O último dígito da tripla é o id do projeto, não entrando, portanto, no cálculo\n",
        "features = list(zip(area_num, subarea_num, ids))\n",
        "print(features)"
      ],
      "execution_count": 107,
      "outputs": [
        {
          "output_type": "stream",
          "name": "stdout",
          "text": [
            "[1 2 4 4 0 3 1]\n",
            "[4 5 3 2 6 1 0]\n",
            "[(1, 4, 0), (2, 5, 1), (4, 3, 2), (4, 2, 3), (0, 6, 4), (3, 1, 5), (1, 0, 6)]\n"
          ]
        }
      ]
    },
    {
      "cell_type": "markdown",
      "metadata": {
        "id": "jD-3MSNSQ2bH"
      },
      "source": [
        "**Criando um classificador KNN**\n",
        "\n",
        "***1. Cálculo de distância (euclidiana):***"
      ]
    },
    {
      "cell_type": "code",
      "metadata": {
        "colab": {
          "base_uri": "https://localhost:8080/"
        },
        "id": "JrvnIQeRQ7tU",
        "outputId": "f05f700c-3e75-438f-9e4e-c8708de5270f"
      },
      "source": [
        "import math\n",
        "\n",
        "def distancia_euclidiana (feature_1, feature_2, tam):\n",
        "    distancia = 0\n",
        "    for i in range(tam):\n",
        "        distancia += (feature_1[i] - feature_2[i])**2\n",
        "    return math.sqrt(distancia)\n",
        "\n",
        "# Exemplo\n",
        "a = [4, -8]\n",
        "b = [2, -3]\n",
        "\n",
        "distancia_euclidiana(a, b, 2)"
      ],
      "execution_count": 108,
      "outputs": [
        {
          "output_type": "execute_result",
          "data": {
            "text/plain": [
              "5.385164807134504"
            ]
          },
          "metadata": {},
          "execution_count": 108
        }
      ]
    },
    {
      "cell_type": "markdown",
      "metadata": {
        "id": "qjBof2dLRmph"
      },
      "source": [
        "***2. Cálculo dos K vizinhos mais próximos***"
      ]
    },
    {
      "cell_type": "code",
      "metadata": {
        "id": "gvLiXZe5RpNC"
      },
      "source": [
        "def knn (nova_instancia, base_dados, k):\n",
        "  distancias = [] # Distancias calculadas\n",
        "  \n",
        "  for i in range(len(base_dados)):\n",
        "    distancia = distancia_euclidiana(nova_instancia, base_dados[i], 2) # Distância do registro de teste a todos os outros.\n",
        "    distancias.append((distancia, base_dados[i]))\n",
        "  distancias.sort() # Ordenacao crescente\n",
        "    \n",
        "  vizinhos = []\n",
        "  for j in range(k):\n",
        "    vizinhos.append(distancias[j][1]) # Os k vizinhos mais próximos\n",
        "      \n",
        "  return vizinhos # Vizinhos mais próximos"
      ],
      "execution_count": 109,
      "outputs": []
    },
    {
      "cell_type": "markdown",
      "metadata": {
        "id": "e9jGkIf2VNlr"
      },
      "source": [
        "***3. Recomendação***\n",
        "\n",
        "A recomendação baseia-se nos funcionários que mais atuaram em projetos similares."
      ]
    },
    {
      "cell_type": "code",
      "metadata": {
        "id": "MAY8oeVmVoxG"
      },
      "source": [
        "import collections, numpy, itertools\n",
        "\n",
        "func = []\n",
        "for i in range(0, len(projetosSimilares)):\n",
        "  func.append(alocacaoProjetos[projetosSimilares[i][2]]) # Funcionários que atuaram nos projetos similares"
      ],
      "execution_count": 110,
      "outputs": []
    },
    {
      "cell_type": "markdown",
      "metadata": {
        "id": "NG257KA4ddJo"
      },
      "source": [
        "***4. Teste***"
      ]
    },
    {
      "cell_type": "code",
      "metadata": {
        "colab": {
          "base_uri": "https://localhost:8080/"
        },
        "id": "hdPLkpXrdh1t",
        "outputId": "42f5a086-04b0-4761-ad6c-779c8a900d7f"
      },
      "source": [
        "novoProjeto = [4, 3] # Novo projeto (área: software, subárea: desenvolvimento mobile)\n",
        "\n",
        "projetosSimilares = knn(novoProjeto, features, 3) # Chama o método com k = 3\n",
        "print('Projetos Similares:')\n",
        "print(projetosSimilares)\n",
        "\n",
        "rec = list(itertools.chain(*func)) # Transforma a lista de listas em uma única lista\n",
        "rec = numpy.array(rec)\n",
        "collections.Counter(rec) # Conta as ocorrência de cada funcionário. Quanto maior a ocorrência do funcionário, mais indicado ele é."
      ],
      "execution_count": 112,
      "outputs": [
        {
          "output_type": "stream",
          "name": "stdout",
          "text": [
            "Projetos Similares:\n",
            "[(4, 3, 2), (4, 2, 3), (3, 1, 5)]\n"
          ]
        },
        {
          "output_type": "execute_result",
          "data": {
            "text/plain": [
              "Counter({'funcA': 2, 'funcB': 1, 'funcD': 1, 'funcE': 3, 'funcF': 2})"
            ]
          },
          "metadata": {},
          "execution_count": 112
        }
      ]
    }
  ]
}