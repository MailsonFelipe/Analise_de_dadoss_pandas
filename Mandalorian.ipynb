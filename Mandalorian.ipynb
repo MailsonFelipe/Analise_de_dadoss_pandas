{
  "nbformat": 4,
  "nbformat_minor": 0,
  "metadata": {
    "colab": {
      "name": "Mandalorian.ipynb",
      "provenance": [],
      "collapsed_sections": [],
      "authorship_tag": "ABX9TyM4S4Km/UgoDka9doT74zK4",
      "include_colab_link": true
    },
    "kernelspec": {
      "name": "python3",
      "display_name": "Python 3"
    },
    "language_info": {
      "name": "python"
    }
  },
  "cells": [
    {
      "cell_type": "markdown",
      "metadata": {
        "id": "view-in-github",
        "colab_type": "text"
      },
      "source": [
        "<a href=\"https://colab.research.google.com/github/MailsonFelipe/Analise_de_dadoss_pandas/blob/master/Mandalorian.ipynb\" target=\"_parent\"><img src=\"https://colab.research.google.com/assets/colab-badge.svg\" alt=\"Open In Colab\"/></a>"
      ]
    },
    {
      "cell_type": "markdown",
      "metadata": {
        "id": "RszFkAngZqOI"
      },
      "source": [
        "## **PoC utilizando KNN no Projeto Mandalorian**"
      ]
    },
    {
      "cell_type": "markdown",
      "metadata": {
        "id": "0KSzTzc3Jgjv"
      },
      "source": [
        "**Importações**"
      ]
    },
    {
      "cell_type": "code",
      "metadata": {
        "id": "UK59c5MhfgS0"
      },
      "source": [
        "import pandas as pd\n",
        "import numpy as np\n",
        "import sys"
      ],
      "execution_count": 19,
      "outputs": []
    },
    {
      "cell_type": "markdown",
      "metadata": {
        "id": "pZ8a2DRfJqin"
      },
      "source": [
        "**Leitura dos dados (projetos)**"
      ]
    },
    {
      "cell_type": "markdown",
      "metadata": {
        "id": "5xwHL06fdEcj"
      },
      "source": [
        "Há poucos dados para representar um projeto. Por isso, utilizei os campos abaixo (features), que achei mais importante. São 30 tuplas (representando 30 projetos)"
      ]
    },
    {
      "cell_type": "code",
      "metadata": {
        "colab": {
          "base_uri": "https://localhost:8080/"
        },
        "id": "2pdd0rPG_U5O",
        "outputId": "4ac6b2a9-56c3-4bf6-a6d7-c68109092ead"
      },
      "source": [
        "# Primeira feature\n",
        "area = ['externo','interno','externo','externo','interno','interno','externo','externo','interno','interno','interno','externo','externo',\n",
        "        'externo','externo','externo','interno','externo','externo','interno','externo','externo','interno','externo','interno','externo','externo',\n",
        "        'interno','externo','externo']\n",
        "\n",
        "print('area '+str(len(area)))\n",
        "# Segunda feature\n",
        "enquadrabilidade = ['desenvolvimento experimental: software','desenvolvimento experimental: software','desenvolvimento experimental: software',\n",
        "                    'formacao ou capacitacao profissional','servico cientifico e tecnologico de acessoria','desenvolvimento experimental: software',\n",
        "                    'pesquisa basica','pesquisa aplicada','servico cientifico e tecnologico de acessoria','desenvolvimento experimental: automacao',\n",
        "                    'pesquisa aplicada','formacao ou capacitacao profissional','servico cientifico e tecnologico de acessoria',\n",
        "                    'formacao ou capacitacao profissional','desenvolvimento experimental: automacao','pesquisa aplicada','desenvolvimento experimental: software',\n",
        "                    'pesquisa basica','desenvolvimento experimental: software','pesquisa basica','pesquisa aplicada','pesquisa basica','pesquisa basica',\n",
        "                    'desenvolvimento experimental: software','desenvolvimento experimental: automacao','pesquisa basica','desenvolvimento experimental: software',\n",
        "                    'pesquisa aplicada','pesquisa basica','formacao ou capacitacao profissional']\n",
        "print('enquadrabilidade '+str(len(enquadrabilidade)))\n",
        "# Teceira feature\n",
        "tipo = ['ppb','ppb','ppb','lei de informatica','ppb','lei de informatica','lei de informatica','lei de informatica','lei de informatica',\n",
        "        'lei de informatica','lei de informatica','ppb','lei de informatica','ppb','lei de informatica','lei de informatica','ppb','ppb',\n",
        "        'ppb','ppb','ppb','lei de informatica','ppb','ppb','ppb','ppb','lei de informatica','ppb','ppb','lei de informatica']\n",
        "print('tipo '+str(len(tipo)))"
      ],
      "execution_count": 11,
      "outputs": [
        {
          "output_type": "stream",
          "name": "stdout",
          "text": [
            "area 30\n",
            "enquadrabilidade 30\n",
            "tipo 30\n"
          ]
        }
      ]
    },
    {
      "cell_type": "markdown",
      "metadata": {
        "id": "dIO2oCDoKf6o"
      },
      "source": [
        "**Tratamento dos dados**\n"
      ]
    },
    {
      "cell_type": "markdown",
      "metadata": {
        "id": "FY8QRc854uUl"
      },
      "source": [
        "A maioria dos algoritmos de aprendizado de máquina exigem dados de entrada numérica. Para tanto, é necessário mapear cada entrada em um número. E.g. externo: 0, interno: 1. "
      ]
    },
    {
      "cell_type": "code",
      "metadata": {
        "colab": {
          "base_uri": "https://localhost:8080/"
        },
        "id": "FhXcZ7Wb5eaN",
        "outputId": "1164b94b-503b-43dc-83c6-be933d1c19ed"
      },
      "source": [
        "# Importando LabelEncoder\n",
        "from sklearn import preprocessing\n",
        "\n",
        "# Criando labelEncoder\n",
        "le = preprocessing.LabelEncoder()\n",
        "\n",
        "# Convertendo strings em números\n",
        "area_num = le.fit_transform(area [:20])\n",
        "print(area_num)\n",
        "\n",
        "enquad_num = le.fit_transform(enquadrabilidade [:20])\n",
        "print(enquad_num)\n",
        "\n",
        "tipo_num = le.fit_transform(tipo [:20])\n",
        "print(tipo_num)\n",
        "\n",
        "# Identificadores dos projetos\n",
        "ids = []\n",
        "for id in range (0, 30):\n",
        "  ids.append(id)\n",
        "ids = ids[:20]\n",
        "\n",
        "# Combinando cada feature em uma quádrupla. Cada quádrupla representa um projeto\n",
        "features=list(zip(area_num, enquad_num, tipo_num, ids))\n",
        "print(features)"
      ],
      "execution_count": 57,
      "outputs": [
        {
          "output_type": "stream",
          "name": "stdout",
          "text": [
            "[0 1 0 0 1 1 0 0 1 1 1 0 0 0 0 0 1 0 0 1]\n",
            "[1 1 1 2 5 1 4 3 5 0 3 2 5 2 0 3 1 4 1 4]\n",
            "[1 1 1 0 1 0 0 0 0 0 0 1 0 1 0 0 1 1 1 1]\n",
            "[(0, 1, 1, 0), (1, 1, 1, 1), (0, 1, 1, 2), (0, 2, 0, 3), (1, 5, 1, 4), (1, 1, 0, 5), (0, 4, 0, 6), (0, 3, 0, 7), (1, 5, 0, 8), (1, 0, 0, 9), (1, 3, 0, 10), (0, 2, 1, 11), (0, 5, 0, 12), (0, 2, 1, 13), (0, 0, 0, 14), (0, 3, 0, 15), (1, 1, 1, 16), (0, 4, 1, 17), (0, 1, 1, 18), (1, 4, 1, 19)]\n"
          ]
        }
      ]
    },
    {
      "cell_type": "markdown",
      "metadata": {
        "id": "zyUrcw46-l_Y"
      },
      "source": [
        "**Criando um classificador KNN**"
      ]
    },
    {
      "cell_type": "markdown",
      "metadata": {
        "id": "HQZI9FpGVoLI"
      },
      "source": [
        "***1. Cálculo de distância (euclidiana):***"
      ]
    },
    {
      "cell_type": "code",
      "metadata": {
        "colab": {
          "base_uri": "https://localhost:8080/"
        },
        "id": "k36tIAQA-zmX",
        "outputId": "46fcb015-f884-491a-939d-8199ef21f67c"
      },
      "source": [
        "# Importando o módulo\n",
        "import math\n",
        "'''from sklearn.neighbors import KNeighborsClassifier\n",
        "\n",
        "# Criando um objeto classificador, com K = 3\n",
        "modelo = KNeighborsClassifier(n_neighbors=3)\n",
        "label = []\n",
        "\n",
        "for i in range (0, 30):\n",
        "  label.append(features)\n",
        "label = label[:20]\n",
        "\n",
        "modelo.fit(features, label)\n",
        "\n",
        "predicao = modelo.predict([[1,5,1]])'''\n",
        "\n",
        "def distancia_euclidiana (feature_1, feature_2, tam):\n",
        "    distancia = 0\n",
        "    for i in range(tam):\n",
        "        distancia += (feature_1[i] - feature_2[i])**2\n",
        "    return math.sqrt(distancia)\n",
        "\n",
        "# Exemplo\n",
        "a = [4, -8, -9]\n",
        "b = [2, -3, -5]\n",
        "\n",
        "distancia_euclidiana(a, b, 3)"
      ],
      "execution_count": 58,
      "outputs": [
        {
          "output_type": "execute_result",
          "data": {
            "text/plain": [
              "6.708203932499369"
            ]
          },
          "metadata": {},
          "execution_count": 58
        }
      ]
    },
    {
      "cell_type": "markdown",
      "metadata": {
        "id": "hzz53nW_VzQ3"
      },
      "source": [
        "***2. Cálculo dos K vizinhos mais próximos***"
      ]
    },
    {
      "cell_type": "code",
      "metadata": {
        "colab": {
          "base_uri": "https://localhost:8080/"
        },
        "id": "cVYGvfAcV-AS",
        "outputId": "ae7fbb44-559a-45d1-f7f8-cba89175a44e"
      },
      "source": [
        "def knn (nova_instancia, base_dados, k):\n",
        "  distancias = [] # Distancias calculadas\n",
        "  tam = len(nova_instancia) - 1\n",
        "  \n",
        "  for i in range(len(base_dados)):\n",
        "    distancia = distancia_euclidiana(nova_instancia, base_dados[i], tam) # Distância do registro de teste a todos os outros.\n",
        "    distancias.append((distancia, base_dados[i]))\n",
        "  distancias.sort() # Ordenacao crescente\n",
        "    \n",
        "  vizinhos = []\n",
        "  for j in range(k):\n",
        "    vizinhos.append(distancias[j][1]) # Junta em vizinhos os k vizinhos mais próximos\n",
        "      \n",
        "  return vizinhos # Vizinhos mais próximos\n",
        "\n",
        "teste = [0, 0, 0] # Novo projeto\n",
        "knn(teste, features, 3)"
      ],
      "execution_count": 60,
      "outputs": [
        {
          "output_type": "execute_result",
          "data": {
            "text/plain": [
              "[(0, 0, 0, 14), (0, 1, 1, 0), (0, 1, 1, 2)]"
            ]
          },
          "metadata": {},
          "execution_count": 60
        }
      ]
    },
    {
      "cell_type": "markdown",
      "metadata": {
        "id": "6ZsoG0alcDfO"
      },
      "source": [
        "Note que os resultados são os projetos mais próximos, representados por seus ids (últimos dígidos da quádrupla). A ideia inicial é fazer o levantamento dos funcionários que mais participaram dos três projetos exibidos. Calcular a frequência deles e sugerir os mais atuantes. Esta é a ideia inicial, e pode ter melhorias."
      ]
    }
  ]
}